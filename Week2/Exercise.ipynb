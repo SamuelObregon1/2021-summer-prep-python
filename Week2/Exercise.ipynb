{
 "cells": [
  {
   "cell_type": "markdown",
   "metadata": {},
   "source": [
    "# Problem 1: Write a function thats input is a number and output is:\n",
    "* Return True if the input number is even.\n",
    "* Return False if the input number is odd."
   ]
  },
  {
   "cell_type": "code",
   "execution_count": null,
   "metadata": {},
   "outputs": [],
   "source": [
    "# Solve problem 1 here\n",
    "#Finished"
   ]
  },
  {
   "cell_type": "code",
   "execution_count": 1,
   "metadata": {},
   "outputs": [
    {
     "data": {
      "text/plain": [
       "True"
      ]
     },
     "execution_count": 1,
     "metadata": {},
     "output_type": "execute_result"
    }
   ],
   "source": [
    "def ODDorEven(number):\n",
    "    if number%2 == 0:\n",
    "        return True\n",
    "    else: \n",
    "        return False\n",
    "ODDorEven(100)"
   ]
  },
  {
   "cell_type": "markdown",
   "metadata": {},
   "source": [
    "# Problem 2: Find the sum and the average of this list of numbers.\n",
    "\n",
    "Try doing this using a loop.  Then try doing this without using a loop. "
   ]
  },
  {
   "cell_type": "code",
   "execution_count": 6,
   "metadata": {},
   "outputs": [
    {
     "name": "stdout",
     "output_type": "stream",
     "text": [
      "[353] [35.3]\n"
     ]
    }
   ],
   "source": [
    "# Solve problem 2 here:\n",
    "#Finished \n",
    "my_list = [1, 5, 10, 55, 88, 44, 42, 50, 20, 38]\n",
    "list_sum = []\n",
    "list_avg = []\n",
    "\n",
    "\n",
    "#Non Loop version\n",
    "TotalSum=sum(my_list)\n",
    "list_sum.append(TotalSum)\n",
    "\n",
    "Average = TotalSum/len(my_list)\n",
    "list_avg.append(Average)\n",
    "\n",
    "\n",
    "# Keep this as your last line in this cell.\n",
    "print(list_sum, list_avg)  \n",
    "#353 35.3\n",
    "\n",
    "#print(list_sum)"
   ]
  },
  {
   "cell_type": "markdown",
   "metadata": {},
   "source": [
    "# Problem 3:  Using a dictionary, count the words in this sentence. \n",
    "* Hint, you can use `.split()` to split a string into a list. "
   ]
  },
  {
   "cell_type": "code",
   "execution_count": 46,
   "metadata": {},
   "outputs": [
    {
     "name": "stdout",
     "output_type": "stream",
     "text": [
      "{'The': 3, 'Oklahoma': 4, 'City': 2, 'Zoo': 2, 'and': 6, 'Botanical': 1, 'Garden': 1, 'is': 4, 'a': 1, 'zoo': 2, 'botanical': 1, 'garden': 1, 'located': 1, 'in': 2, \"City's\": 1, 'Adventure': 1, 'District': 1, 'northeast': 1, 'City,': 1, 'Oklahoma.': 1, 'covers': 1, '119': 1, 'acres': 1, '(48': 1, 'ha)': 1, 'home': 1, 'to': 1, 'more': 1, 'than': 1, '1,900': 1, 'animals.': 1, 'It': 1, 'open': 1, 'every': 1, 'day': 1, 'except': 1, 'Thanksgiving,': 1, 'Christmas,': 1, 'New': 1, \"Year's\": 1, 'Day.': 1, 'an': 1, 'accredited': 1, 'member': 1, 'of': 3, 'the': 2, 'Association': 1, 'Zoos': 1, 'Aquariums': 1, 'American': 1, 'Alliance': 1, 'Museums.': 1}\n"
     ]
    }
   ],
   "source": [
    "# Solve problem 3 here:\n",
    "#done\n",
    "my_string = '''The Oklahoma City Zoo and Botanical Garden is a zoo and botanical garden located in Oklahoma City's Adventure District in northeast Oklahoma City, Oklahoma. The zoo covers 119 acres (48 ha) and is home to more than 1,900 animals. It is open every day except Thanksgiving, Christmas, and New Year's Day. The Oklahoma City Zoo is an accredited member of the Association of Zoos and Aquariums and the American Alliance of Museums.'''\n",
    "my_dict = {}\n",
    "for words in my_string.split():\n",
    "    if words in my_dict:\n",
    "        my_dict[words] += 1\n",
    "    else:\n",
    "         my_dict[words] = 1\n",
    "print(my_dict)"
   ]
  },
  {
   "cell_type": "markdown",
   "metadata": {},
   "source": [
    "# Problem 4: Write a function that input is a number and output returns the following\n",
    "* If the input is divisible by three, return 'fizz'\n",
    "* If the input is divisible by five, return 'buzz'\n",
    "* If the input is divisible by three and by five, return 'fizzbuzz'\n",
    "* If the input is not divisible by three or five, return None."
   ]
  },
  {
   "cell_type": "code",
   "execution_count": 59,
   "metadata": {},
   "outputs": [
    {
     "data": {
      "text/plain": [
       "'fizzbuzz'"
      ]
     },
     "execution_count": 59,
     "metadata": {},
     "output_type": "execute_result"
    }
   ],
   "source": [
    "# Solve Problem 4 here:\n",
    "#Done\n",
    "\n",
    "def DivisibleCheck(number):\n",
    "    if number%5 == 0 and number%3 == 0:\n",
    "        return 'fizzbuzz'\n",
    "    if number%3==0:\n",
    "        return 'fizz'\n",
    "    if number%5 == 0:\n",
    "        return 'buzz'\n",
    "    else:\n",
    "        return 'None'\n",
    "DivisibleCheck(90)"
   ]
  },
  {
   "cell_type": "markdown",
   "metadata": {},
   "source": [
    "# Problem 5: \n",
    "Write a function that takes a list and returns a new list that contains all the elements of the first list minus all the duplicates.\n",
    "\n",
    "Example input and expected output\n",
    "\n",
    "input = [\"Michele\", \"Robin\", \"Sara\", \"Michele\"]\n",
    "\n",
    "expected output = ['Michele', 'Robin', 'Sara']\n"
   ]
  },
  {
   "cell_type": "code",
   "execution_count": 31,
   "metadata": {},
   "outputs": [
    {
     "data": {
      "text/plain": [
       "['Michele', 'Robin', 'Sara']"
      ]
     },
     "execution_count": 31,
     "metadata": {},
     "output_type": "execute_result"
    }
   ],
   "source": [
    "# Solve problem 5 here:\n",
    "# Finished\n",
    "names = [\"Michele\", \"Robin\", \"Sara\", \"Michele\"]\n",
    "def NoDuplicate(lists):\n",
    "    New_list = []\n",
    "    for i in lists:\n",
    "        if i not in New_list:\n",
    "            New_list.append(i)\n",
    "    return New_list\n",
    "    \n",
    "    \n",
    "    \n",
    "NoDuplicate(names)"
   ]
  },
  {
   "cell_type": "markdown",
   "metadata": {},
   "source": [
    "# Problem 6: \n",
    "Write a function that takes a list of numbers (for example, a = [5, 10, 15, 20, 25]) and returns a new list of only the first and last elements of the given list.\n",
    "\n",
    "Example input and expected output:\n",
    "\n",
    "input = [5, 10, 15, 20, 25]\n",
    "\n",
    "expected output = [5, 25]"
   ]
  },
  {
   "cell_type": "code",
   "execution_count": 13,
   "metadata": {},
   "outputs": [
    {
     "data": {
      "text/plain": [
       "[5, 25]"
      ]
     },
     "execution_count": 13,
     "metadata": {},
     "output_type": "execute_result"
    }
   ],
   "source": [
    "# Solve problem 6 here:\n",
    "#done\n",
    "input_list = [5, 10, 99, 20, 25]\n",
    "\n",
    "def FirstLast(n):\n",
    "    new_list = []\n",
    "    new_list.append(n[0])\n",
    "    new_list.append(n[-1])\n",
    "    return new_list\n",
    "    \n",
    "FirstLast(input_list)"
   ]
  },
  {
   "cell_type": "markdown",
   "metadata": {},
   "source": [
    "# Problem 7:  Implement a function that takes as input three variables, and returns the largest of the three. \n",
    "Do this without using the Python max() function! \n",
    "_*Note all three input numbers will always be different, no need to account for a tie._\n",
    "\n",
    "Example input and expected output:\n",
    "\n",
    "input = your_function(1, 5, 10)\n",
    "\n",
    "expected output:  10"
   ]
  },
  {
   "cell_type": "code",
   "execution_count": 33,
   "metadata": {},
   "outputs": [],
   "source": [
    "# Solve Problem 7 here:\n",
    "#Done\n",
    "def your_function(a, b, c):\n",
    "    # Fill in your code below and return max value of a, b, c\n",
    "    #Checks if a is greater:\n",
    "    if a>b and a>c:\n",
    "        print(a)\n",
    "    if b>a and b>c:\n",
    "        print(b)\n",
    "    if c>a and c>b:\n",
    "        print(c)"
   ]
  },
  {
   "cell_type": "code",
   "execution_count": 34,
   "metadata": {},
   "outputs": [
    {
     "name": "stdout",
     "output_type": "stream",
     "text": [
      "10\n"
     ]
    }
   ],
   "source": [
    "# Test to see if your function works properly.\n",
    "your_function(1, 5, 10)"
   ]
  }
 ],
 "metadata": {
  "kernelspec": {
   "display_name": "Python 3",
   "language": "python",
   "name": "python3"
  },
  "language_info": {
   "codemirror_mode": {
    "name": "ipython",
    "version": 3
   },
   "file_extension": ".py",
   "mimetype": "text/x-python",
   "name": "python",
   "nbconvert_exporter": "python",
   "pygments_lexer": "ipython3",
   "version": "3.8.5"
  }
 },
 "nbformat": 4,
 "nbformat_minor": 4
}
